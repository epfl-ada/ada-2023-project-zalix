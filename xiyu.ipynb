{
 "cells": [
  {
   "cell_type": "code",
   "execution_count": 289,
   "metadata": {},
   "outputs": [
    {
     "data": {
      "text/html": [
       "        <script type=\"text/javascript\">\n",
       "        window.PlotlyConfig = {MathJaxConfig: 'local'};\n",
       "        if (window.MathJax && window.MathJax.Hub && window.MathJax.Hub.Config) {window.MathJax.Hub.Config({SVG: {font: \"STIX-Web\"}});}\n",
       "        if (typeof require !== 'undefined') {\n",
       "        require.undef(\"plotly\");\n",
       "        requirejs.config({\n",
       "            paths: {\n",
       "                'plotly': ['https://cdn.plot.ly/plotly-2.27.0.min']\n",
       "            }\n",
       "        });\n",
       "        require(['plotly'], function(Plotly) {\n",
       "            window._Plotly = Plotly;\n",
       "        });\n",
       "        }\n",
       "        </script>\n",
       "        "
      ]
     },
     "metadata": {},
     "output_type": "display_data"
    }
   ],
   "source": [
    "import ast\n",
    "import math\n",
    "import json\n",
    "import requests\n",
    "import numpy as np\n",
    "import pandas as pd\n",
    "import plotly as py\n",
    "import networkx as nx\n",
    "import seaborn as sns\n",
    "import ipywidgets as widgets\n",
    "\n",
    "import statsmodels.api as sm\n",
    "import plotly.graph_objs as go\n",
    "import matplotlib.pyplot as plt\n",
    "import statsmodels.formula.api as smf\n",
    "\n",
    "from helpers import *\n",
    "from scipy import stats\n",
    "from datetime import datetime as dt\n",
    "from ipywidgets import interact, interactive, fixed, interact_manual\n",
    "\n",
    "from IPython.display import HTML\n",
    "from plotly.subplots import make_subplots\n",
    "from statsmodels.stats.multicomp import pairwise_tukeyhsd\n",
    "\n",
    "py.offline.init_notebook_mode(connected=True)\n",
    "\n",
    "# turn off warning\n",
    "pd.options.mode.chained_assignment = None"
   ]
  },
  {
   "cell_type": "code",
   "execution_count": 290,
   "metadata": {},
   "outputs": [],
   "source": [
    "#datapath\n",
    "DATA_FOLDER = \"./data/\"\n",
    "MOVIE_PATH=DATA_FOLDER+\"CMU/movie.metadata.tsv\"\n",
    "CHARACTER_PATH = DATA_FOLDER+\"CMU/character.metadata.tsv\"\n",
    "\n",
    "MOVIE_IMDB_PATH = DATA_FOLDER+\"IMDB/title.basics.tsv\"\n",
    "MOVIE_IMDB_RATING_PATH = DATA_FOLDER+\"IMDB/title.ratings.tsv\""
   ]
  },
  {
   "cell_type": "code",
   "execution_count": 291,
   "metadata": {},
   "outputs": [],
   "source": [
    "# create dataframes\n",
    "\n",
    "# define collumn names\n",
    "colnames_movies = [\n",
    "    \"wikipedia_movie_ID\",\n",
    "    \"freebase_movie_ID\",\n",
    "    \"movie_name\",\n",
    "    \"movie_release_date\",\n",
    "    \"movie_box_office_revenue\",\n",
    "    \"movie_runtime\",\n",
    "    \"movie_languages\",\n",
    "    \"movie_countries\",\n",
    "    \"movie_genres\",\n",
    "]\n",
    "\n",
    "colnames_character = [\n",
    "    \"wikipedia_movie_ID\",\n",
    "    \"freebase_movie_ID\",\n",
    "    \"last_update\",\n",
    "    \"character_name\",\n",
    "    \"actor_DOB\",\n",
    "    \"actor_gender\",\n",
    "    \"actor_height\",\n",
    "    \"actor_ethnicity\",\n",
    "    \"actor_name\",\n",
    "    \"actor_age_at_movie_release\",\n",
    "    \"freebase_character/actor_map_ID\",\n",
    "    \"freebase_character_ID\",\n",
    "    \"freebase_actor_ID\",\n",
    "]\n",
    "\n",
    "\n",
    "# load data\n",
    "movies = pd.read_csv(MOVIE_PATH, sep=\"\\t\", names=colnames_movies, header=None)\n",
    "movies_original = movies.copy()\n",
    "characters = pd.read_csv(\n",
    "    CHARACTER_PATH, sep=\"\\t\", names=colnames_character, header=None\n",
    ")\n",
    "\n",
    "\n",
    "imdb_movies = pd.read_table(\n",
    "    MOVIE_IMDB_PATH,\n",
    "    sep=\"\\t\",\n",
    "    usecols=[\"tconst\", \"originalTitle\", \"startYear\", \"runtimeMinutes\"],\n",
    ")\n",
    "imdb_ratings = pd.read_table(MOVIE_IMDB_RATING_PATH, sep=\"\\t\")"
   ]
  },
  {
   "cell_type": "code",
   "execution_count": 292,
   "metadata": {},
   "outputs": [
    {
     "name": "stderr",
     "output_type": "stream",
     "text": [
      "/var/folders/xd/632j9v0549bf40k68lrscmkh0000gn/T/ipykernel_49051/3628268272.py:3: UserWarning:\n",
      "\n",
      "The argument 'infer_datetime_format' is deprecated and will be removed in a future version. A strict version of it is now the default, see https://pandas.pydata.org/pdeps/0004-consistent-to-datetime-parsing.html. You can safely remove this argument.\n",
      "\n"
     ]
    }
   ],
   "source": [
    "#imbd movies already has the release date\n",
    "#add release date to movies\n",
    "movies[\"year_released\"] = pd.to_datetime(\n",
    "    movies[\"movie_release_date\"], infer_datetime_format=True, errors=\"coerce\"\n",
    ").dt.year\n",
    "#drop the rows with no release date in movies\n",
    "movies = movies[~movies[\"year_released\"].isna()]\n",
    "\n",
    "#rename columns to match between movies and imdb_movies\n",
    "imdb_movies = imdb_movies.rename(\n",
    "    columns={\n",
    "        \"startYear\": \"year_released\",\n",
    "        \"originalTitle\": \"movie_name\",\n",
    "        \"runtimeMinutes\": \"movie_runtime\",\n",
    "    }\n",
    ")\n",
    "\n",
    "# converting '\\\\N' values to np.nan\n",
    "imdb_movies.loc[imdb_movies[\"year_released\"] == \"\\\\N\", \"year_released\"] = np.nan\n",
    "imdb_movies.loc[imdb_movies[\"movie_runtime\"] == \"\\\\N\", \"movie_runtime\"] = np.nan\n",
    "\n",
    "# removing all rows containing np.nan\n",
    "imdb_movies = imdb_movies[imdb_movies[\"year_released\"].notna()]\n",
    "\n",
    "# converting year released to 'int64'\n",
    "movies[\"year_released\"] = movies[\"year_released\"].astype(\"int64\")\n",
    "imdb_movies[\"year_released\"] = imdb_movies[\"year_released\"].astype(\"int64\")\n",
    "\n",
    "# converting runtime to 'float64'\n",
    "imdb_movies[\"movie_runtime\"] = imdb_movies[\"movie_runtime\"].astype(\n",
    "    \"float64\", errors=\"ignore\"\n",
    ")\n",
    "\n",
    "# removing rows with duplicate of ('movie_name', 'release_year', 'movie_runtime') in movies\n",
    "movies = movies.drop_duplicates(subset=[\"movie_name\", \"year_released\", \"movie_runtime\"])\n",
    "imdb_movies = imdb_movies.drop_duplicates(\n",
    "    subset=[\"movie_name\", \"year_released\", \"movie_runtime\"]\n",
    ")\n"
   ]
  },
  {
   "cell_type": "code",
   "execution_count": 293,
   "metadata": {},
   "outputs": [],
   "source": [
    "#merge 'imdb_movies' with 'imdb_ratings':\n",
    "imdb_movies = pd.merge(left=imdb_movies, right=imdb_ratings, on=\"tconst\")\n",
    "\n",
    "# merge 'movies' with 'imdb_movies' + 'imdb_ratings'\n",
    "movies = pd.merge(\n",
    "    left=movies,\n",
    "    right=imdb_movies,\n",
    "    how=\"left\",\n",
    "    on=[\"movie_name\", \"year_released\", \"movie_runtime\"],\n",
    ")\n"
   ]
  },
  {
   "cell_type": "code",
   "execution_count": 294,
   "metadata": {},
   "outputs": [
    {
     "data": {
      "text/html": [
       "<div>\n",
       "<style scoped>\n",
       "    .dataframe tbody tr th:only-of-type {\n",
       "        vertical-align: middle;\n",
       "    }\n",
       "\n",
       "    .dataframe tbody tr th {\n",
       "        vertical-align: top;\n",
       "    }\n",
       "\n",
       "    .dataframe thead th {\n",
       "        text-align: right;\n",
       "    }\n",
       "</style>\n",
       "<table border=\"1\" class=\"dataframe\">\n",
       "  <thead>\n",
       "    <tr style=\"text-align: right;\">\n",
       "      <th></th>\n",
       "      <th>wikipedia_movie_ID</th>\n",
       "      <th>freebase_movie_ID</th>\n",
       "      <th>movie_name</th>\n",
       "      <th>movie_release_date</th>\n",
       "      <th>movie_box_office_revenue</th>\n",
       "      <th>movie_runtime</th>\n",
       "      <th>movie_languages</th>\n",
       "      <th>movie_countries</th>\n",
       "      <th>movie_genres</th>\n",
       "      <th>year_released</th>\n",
       "      <th>tconst</th>\n",
       "      <th>averageRating</th>\n",
       "      <th>numVotes</th>\n",
       "    </tr>\n",
       "  </thead>\n",
       "  <tbody>\n",
       "    <tr>\n",
       "      <th>0</th>\n",
       "      <td>975900</td>\n",
       "      <td>/m/03vyhn</td>\n",
       "      <td>Ghosts of Mars</td>\n",
       "      <td>2001-08-24</td>\n",
       "      <td>14010832.0</td>\n",
       "      <td>98.0</td>\n",
       "      <td>{\"/m/02h40lc\": \"English Language\"}</td>\n",
       "      <td>{\"/m/09c7w0\": \"United States of America\"}</td>\n",
       "      <td>{\"/m/01jfsb\": \"Thriller\", \"/m/06n90\": \"Science...</td>\n",
       "      <td>2001</td>\n",
       "      <td>tt0228333</td>\n",
       "      <td>4.9</td>\n",
       "      <td>56928.0</td>\n",
       "    </tr>\n",
       "    <tr>\n",
       "      <th>1</th>\n",
       "      <td>3196793</td>\n",
       "      <td>/m/08yl5d</td>\n",
       "      <td>Getting Away with Murder: The JonBenét Ramsey ...</td>\n",
       "      <td>2000-02-16</td>\n",
       "      <td>NaN</td>\n",
       "      <td>95.0</td>\n",
       "      <td>{\"/m/02h40lc\": \"English Language\"}</td>\n",
       "      <td>{\"/m/09c7w0\": \"United States of America\"}</td>\n",
       "      <td>{\"/m/02n4kr\": \"Mystery\", \"/m/03bxz7\": \"Biograp...</td>\n",
       "      <td>2000</td>\n",
       "      <td>NaN</td>\n",
       "      <td>NaN</td>\n",
       "      <td>NaN</td>\n",
       "    </tr>\n",
       "    <tr>\n",
       "      <th>2</th>\n",
       "      <td>13696889</td>\n",
       "      <td>/m/03cfc81</td>\n",
       "      <td>The Gangsters</td>\n",
       "      <td>1913-05-29</td>\n",
       "      <td>NaN</td>\n",
       "      <td>35.0</td>\n",
       "      <td>{\"/m/06ppq\": \"Silent film\", \"/m/02h40lc\": \"Eng...</td>\n",
       "      <td>{\"/m/09c7w0\": \"United States of America\"}</td>\n",
       "      <td>{\"/m/02hmvc\": \"Short Film\", \"/m/06ppq\": \"Silen...</td>\n",
       "      <td>1913</td>\n",
       "      <td>tt0002894</td>\n",
       "      <td>6.8</td>\n",
       "      <td>17.0</td>\n",
       "    </tr>\n",
       "    <tr>\n",
       "      <th>3</th>\n",
       "      <td>10408933</td>\n",
       "      <td>/m/02qc0j7</td>\n",
       "      <td>Alexander's Ragtime Band</td>\n",
       "      <td>1938-08-16</td>\n",
       "      <td>3600000.0</td>\n",
       "      <td>106.0</td>\n",
       "      <td>{\"/m/02h40lc\": \"English Language\"}</td>\n",
       "      <td>{\"/m/09c7w0\": \"United States of America\"}</td>\n",
       "      <td>{\"/m/04t36\": \"Musical\", \"/m/01z4y\": \"Comedy\", ...</td>\n",
       "      <td>1938</td>\n",
       "      <td>tt0029852</td>\n",
       "      <td>6.8</td>\n",
       "      <td>2268.0</td>\n",
       "    </tr>\n",
       "    <tr>\n",
       "      <th>4</th>\n",
       "      <td>6631279</td>\n",
       "      <td>/m/0gffwj</td>\n",
       "      <td>Little city</td>\n",
       "      <td>1997-04-04</td>\n",
       "      <td>NaN</td>\n",
       "      <td>93.0</td>\n",
       "      <td>{\"/m/02h40lc\": \"English Language\"}</td>\n",
       "      <td>{\"/m/09c7w0\": \"United States of America\"}</td>\n",
       "      <td>{\"/m/06cvj\": \"Romantic comedy\", \"/m/0hj3n0w\": ...</td>\n",
       "      <td>1997</td>\n",
       "      <td>NaN</td>\n",
       "      <td>NaN</td>\n",
       "      <td>NaN</td>\n",
       "    </tr>\n",
       "  </tbody>\n",
       "</table>\n",
       "</div>"
      ],
      "text/plain": [
       "   wikipedia_movie_ID freebase_movie_ID  \\\n",
       "0              975900         /m/03vyhn   \n",
       "1             3196793         /m/08yl5d   \n",
       "2            13696889        /m/03cfc81   \n",
       "3            10408933        /m/02qc0j7   \n",
       "4             6631279         /m/0gffwj   \n",
       "\n",
       "                                          movie_name movie_release_date  \\\n",
       "0                                     Ghosts of Mars         2001-08-24   \n",
       "1  Getting Away with Murder: The JonBenét Ramsey ...         2000-02-16   \n",
       "2                                      The Gangsters         1913-05-29   \n",
       "3                           Alexander's Ragtime Band         1938-08-16   \n",
       "4                                        Little city         1997-04-04   \n",
       "\n",
       "   movie_box_office_revenue  movie_runtime  \\\n",
       "0                14010832.0           98.0   \n",
       "1                       NaN           95.0   \n",
       "2                       NaN           35.0   \n",
       "3                 3600000.0          106.0   \n",
       "4                       NaN           93.0   \n",
       "\n",
       "                                     movie_languages  \\\n",
       "0                 {\"/m/02h40lc\": \"English Language\"}   \n",
       "1                 {\"/m/02h40lc\": \"English Language\"}   \n",
       "2  {\"/m/06ppq\": \"Silent film\", \"/m/02h40lc\": \"Eng...   \n",
       "3                 {\"/m/02h40lc\": \"English Language\"}   \n",
       "4                 {\"/m/02h40lc\": \"English Language\"}   \n",
       "\n",
       "                             movie_countries  \\\n",
       "0  {\"/m/09c7w0\": \"United States of America\"}   \n",
       "1  {\"/m/09c7w0\": \"United States of America\"}   \n",
       "2  {\"/m/09c7w0\": \"United States of America\"}   \n",
       "3  {\"/m/09c7w0\": \"United States of America\"}   \n",
       "4  {\"/m/09c7w0\": \"United States of America\"}   \n",
       "\n",
       "                                        movie_genres  year_released  \\\n",
       "0  {\"/m/01jfsb\": \"Thriller\", \"/m/06n90\": \"Science...           2001   \n",
       "1  {\"/m/02n4kr\": \"Mystery\", \"/m/03bxz7\": \"Biograp...           2000   \n",
       "2  {\"/m/02hmvc\": \"Short Film\", \"/m/06ppq\": \"Silen...           1913   \n",
       "3  {\"/m/04t36\": \"Musical\", \"/m/01z4y\": \"Comedy\", ...           1938   \n",
       "4  {\"/m/06cvj\": \"Romantic comedy\", \"/m/0hj3n0w\": ...           1997   \n",
       "\n",
       "      tconst  averageRating  numVotes  \n",
       "0  tt0228333            4.9   56928.0  \n",
       "1        NaN            NaN       NaN  \n",
       "2  tt0002894            6.8      17.0  \n",
       "3  tt0029852            6.8    2268.0  \n",
       "4        NaN            NaN       NaN  "
      ]
     },
     "execution_count": 294,
     "metadata": {},
     "output_type": "execute_result"
    }
   ],
   "source": [
    "movies.head()"
   ]
  },
  {
   "cell_type": "code",
   "execution_count": 295,
   "metadata": {},
   "outputs": [
    {
     "data": {
      "text/plain": [
       "wikipedia_movie_ID          39362\n",
       "freebase_movie_ID           39362\n",
       "movie_name                  39362\n",
       "movie_release_date          39362\n",
       "movie_box_office_revenue     6791\n",
       "movie_runtime               32661\n",
       "movie_languages             39362\n",
       "movie_countries             39362\n",
       "movie_genres                39362\n",
       "year_released               39362\n",
       "tconst                      14369\n",
       "averageRating               14369\n",
       "numVotes                    14369\n",
       "dtype: int64"
      ]
     },
     "execution_count": 295,
     "metadata": {},
     "output_type": "execute_result"
    }
   ],
   "source": [
    "movies.count()"
   ]
  },
  {
   "cell_type": "code",
   "execution_count": 296,
   "metadata": {},
   "outputs": [
    {
     "data": {
      "image/png": "[encoded data removed]",
      "text/plain": [
       "<Figure size 640x480 with 1 Axes>"
      ]
     },
     "metadata": {},
     "output_type": "display_data"
    }
   ],
   "source": [
    "# plot the distribution of release years\n",
    "bins = np.arange(1915, 2013) - 0.5  # -0.5 for center-aligned bins\n",
    "plt.hist(movies[\"year_released\"], histtype=\"step\", bins=bins, log=True)\n",
    "plt.title(\"Number of movies released over the years\")\n",
    "plt.xlabel(\"year released\")\n",
    "plt.ylabel(\"number of movies\")\n",
    "plt.show()"
   ]
  },
  {
   "cell_type": "code",
   "execution_count": 297,
   "metadata": {},
   "outputs": [
    {
     "name": "stdout",
     "output_type": "stream",
     "text": [
      "(939,)\n",
      " \"/m/07s9rl0\": \"Drama\"                     9184\n",
      " \"/m/01z4y\": \"Comedy\"                      4958\n",
      "{\"/m/01jfsb\": \"Thriller\"                   3893\n",
      "{\"/m/02hmvc\": \"Short Film\"                 3573\n",
      " \"/m/07s9rl0\": \"Drama\"}                    3359\n",
      "                                           ... \n",
      " \"/m/0c031k6\": \"Live action\"                  1\n",
      "{\"/m/07y0lv\": \"Science fiction Western\"       1\n",
      " \"/m/0bxdv5\": \"Race movie\"                    1\n",
      "{\"/m/05bdtfl\": \"Period Horror\"                1\n",
      "{\"/m/02wtdps\": \"Crime Thriller\"}              1\n",
      "Name: count, Length: 939, dtype: int64\n"
     ]
    },
    {
     "data": {
      "image/png": "[encoded data removed]",
      "text/plain": [
       "<Figure size 800x400 with 1 Axes>"
      ]
     },
     "metadata": {},
     "output_type": "display_data"
    }
   ],
   "source": [
    "#genres\n",
    "genres = movies[\"movie_genres\"].str.split(\",\", expand=True).stack().value_counts()\n",
    "print(genres.shape)\n",
    "print(genres)\n",
    "#plot genres\n",
    "plt.figure(figsize=(8, 4))\n",
    "plt.bar(genres.index, genres.values)\n",
    "#hide x labels\n",
    "plt.xticks([])\n",
    "#plt.xticks(rotation=90)\n",
    "plt.title(\"Genres\")\n",
    "plt.xlabel(\"Genre\")\n",
    "plt.ylabel(\"Number of movies\")\n",
    "plt.show()\n"
   ]
  },
  {
   "cell_type": "code",
   "execution_count": 298,
   "metadata": {},
   "outputs": [
    {
     "name": "stdout",
     "output_type": "stream",
     "text": [
      "Index(['Drama', 'Comedy', 'Romance Film', 'Black-and-white', 'Thriller',\n",
      "       'Action', 'Short Film', 'Indie', 'Crime Fiction', 'Silent film',\n",
      "       ...\n",
      "       'Breakdance', 'Buddy Picture', 'Psychological horror', 'Chick flick',\n",
      "       'C-Movie', 'Camp', 'Clay animation', 'Hardcore pornography', 'Z movie',\n",
      "       'Race movie'],\n",
      "      dtype='object', name='genre', length=348)\n"
     ]
    }
   ],
   "source": [
    "#extract the main genre\n",
    "def extract_genres(row):\n",
    "    try:\n",
    "        genres_dict = json.loads(row)\n",
    "        return list(genres_dict.values()) if genres_dict else ['NaN']\n",
    "    except json.JSONDecodeError:\n",
    "        return ['NaN']\n",
    "\n",
    "# Apply the function to create a new 'genre' column\n",
    "movies['genre'] = movies['movie_genres'].apply(extract_genres)\n",
    "genre=movies['genre'].explode().copy()\n",
    "genre=genre[genre!='NaN']\n",
    "genre=genre.value_counts()\n",
    "#find the unique genres\n",
    "unique_genres = genre.index\n",
    "print(unique_genres)\n"
   ]
  },
  {
   "cell_type": "code",
   "execution_count": 299,
   "metadata": {},
   "outputs": [
    {
     "name": "stdout",
     "output_type": "stream",
     "text": [
      "(10,)\n",
      "Index(['Drama', 'Comedy', 'Romance Film', 'Black-and-white', 'Thriller',\n",
      "       'Action', 'Short Film', 'Indie', 'Crime Fiction', 'Silent film'],\n",
      "      dtype='object', name='genre')\n"
     ]
    }
   ],
   "source": [
    "# give the top 30 genres that has the largerst number of movies and store them in genre_main\n",
    "genre_main = genre[:10]\n",
    "print(genre_main.shape)\n",
    "print(genre_main.index)"
   ]
  },
  {
   "cell_type": "code",
   "execution_count": 300,
   "metadata": {},
   "outputs": [
    {
     "data": {
      "image/png": "[encoded data removed]",
      "text/plain": [
       "<Figure size 800x400 with 1 Axes>"
      ]
     },
     "metadata": {},
     "output_type": "display_data"
    }
   ],
   "source": [
    "#plot the top 10 genres\n",
    "plt.figure(figsize=(8, 4))\n",
    "plt.bar(genre_main.index, genre_main.values)\n",
    "plt.xticks(rotation=90)\n",
    "plt.title(\"Genres\")\n",
    "plt.xlabel(\"Genre\")\n",
    "plt.ylabel(\"Number of movies\")\n",
    "plt.show()\n"
   ]
  },
  {
   "cell_type": "code",
   "execution_count": 301,
   "metadata": {},
   "outputs": [
    {
     "name": "stdout",
     "output_type": "stream",
     "text": [
      "(32752, 14)\n"
     ]
    },
    {
     "data": {
      "text/html": [
       "<div>\n",
       "<style scoped>\n",
       "    .dataframe tbody tr th:only-of-type {\n",
       "        vertical-align: middle;\n",
       "    }\n",
       "\n",
       "    .dataframe tbody tr th {\n",
       "        vertical-align: top;\n",
       "    }\n",
       "\n",
       "    .dataframe thead th {\n",
       "        text-align: right;\n",
       "    }\n",
       "</style>\n",
       "<table border=\"1\" class=\"dataframe\">\n",
       "  <thead>\n",
       "    <tr style=\"text-align: right;\">\n",
       "      <th></th>\n",
       "      <th>wikipedia_movie_ID</th>\n",
       "      <th>freebase_movie_ID</th>\n",
       "      <th>movie_name</th>\n",
       "      <th>movie_release_date</th>\n",
       "      <th>movie_box_office_revenue</th>\n",
       "      <th>movie_runtime</th>\n",
       "      <th>movie_languages</th>\n",
       "      <th>movie_countries</th>\n",
       "      <th>movie_genres</th>\n",
       "      <th>year_released</th>\n",
       "      <th>tconst</th>\n",
       "      <th>averageRating</th>\n",
       "      <th>numVotes</th>\n",
       "      <th>genre</th>\n",
       "    </tr>\n",
       "  </thead>\n",
       "  <tbody>\n",
       "    <tr>\n",
       "      <th>0</th>\n",
       "      <td>975900</td>\n",
       "      <td>/m/03vyhn</td>\n",
       "      <td>Ghosts of Mars</td>\n",
       "      <td>2001-08-24</td>\n",
       "      <td>14010832.0</td>\n",
       "      <td>98.0</td>\n",
       "      <td>{\"/m/02h40lc\": \"English Language\"}</td>\n",
       "      <td>{\"/m/09c7w0\": \"United States of America\"}</td>\n",
       "      <td>{\"/m/01jfsb\": \"Thriller\", \"/m/06n90\": \"Science...</td>\n",
       "      <td>2001</td>\n",
       "      <td>tt0228333</td>\n",
       "      <td>4.9</td>\n",
       "      <td>56928.0</td>\n",
       "      <td>[Thriller, Science Fiction, Horror, Adventure,...</td>\n",
       "    </tr>\n",
       "    <tr>\n",
       "      <th>1</th>\n",
       "      <td>3196793</td>\n",
       "      <td>/m/08yl5d</td>\n",
       "      <td>Getting Away with Murder: The JonBenét Ramsey ...</td>\n",
       "      <td>2000-02-16</td>\n",
       "      <td>NaN</td>\n",
       "      <td>95.0</td>\n",
       "      <td>{\"/m/02h40lc\": \"English Language\"}</td>\n",
       "      <td>{\"/m/09c7w0\": \"United States of America\"}</td>\n",
       "      <td>{\"/m/02n4kr\": \"Mystery\", \"/m/03bxz7\": \"Biograp...</td>\n",
       "      <td>2000</td>\n",
       "      <td>NaN</td>\n",
       "      <td>NaN</td>\n",
       "      <td>NaN</td>\n",
       "      <td>[Mystery, Biographical film, Drama, Crime Drama]</td>\n",
       "    </tr>\n",
       "    <tr>\n",
       "      <th>2</th>\n",
       "      <td>13696889</td>\n",
       "      <td>/m/03cfc81</td>\n",
       "      <td>The Gangsters</td>\n",
       "      <td>1913-05-29</td>\n",
       "      <td>NaN</td>\n",
       "      <td>35.0</td>\n",
       "      <td>{\"/m/06ppq\": \"Silent film\", \"/m/02h40lc\": \"Eng...</td>\n",
       "      <td>{\"/m/09c7w0\": \"United States of America\"}</td>\n",
       "      <td>{\"/m/02hmvc\": \"Short Film\", \"/m/06ppq\": \"Silen...</td>\n",
       "      <td>1913</td>\n",
       "      <td>tt0002894</td>\n",
       "      <td>6.8</td>\n",
       "      <td>17.0</td>\n",
       "      <td>[Short Film, Silent film, Indie, Black-and-whi...</td>\n",
       "    </tr>\n",
       "    <tr>\n",
       "      <th>3</th>\n",
       "      <td>10408933</td>\n",
       "      <td>/m/02qc0j7</td>\n",
       "      <td>Alexander's Ragtime Band</td>\n",
       "      <td>1938-08-16</td>\n",
       "      <td>3600000.0</td>\n",
       "      <td>106.0</td>\n",
       "      <td>{\"/m/02h40lc\": \"English Language\"}</td>\n",
       "      <td>{\"/m/09c7w0\": \"United States of America\"}</td>\n",
       "      <td>{\"/m/04t36\": \"Musical\", \"/m/01z4y\": \"Comedy\", ...</td>\n",
       "      <td>1938</td>\n",
       "      <td>tt0029852</td>\n",
       "      <td>6.8</td>\n",
       "      <td>2268.0</td>\n",
       "      <td>[Musical, Comedy, Black-and-white]</td>\n",
       "    </tr>\n",
       "    <tr>\n",
       "      <th>4</th>\n",
       "      <td>6631279</td>\n",
       "      <td>/m/0gffwj</td>\n",
       "      <td>Little city</td>\n",
       "      <td>1997-04-04</td>\n",
       "      <td>NaN</td>\n",
       "      <td>93.0</td>\n",
       "      <td>{\"/m/02h40lc\": \"English Language\"}</td>\n",
       "      <td>{\"/m/09c7w0\": \"United States of America\"}</td>\n",
       "      <td>{\"/m/06cvj\": \"Romantic comedy\", \"/m/0hj3n0w\": ...</td>\n",
       "      <td>1997</td>\n",
       "      <td>NaN</td>\n",
       "      <td>NaN</td>\n",
       "      <td>NaN</td>\n",
       "      <td>[Romantic comedy, Ensemble Film, Comedy-drama,...</td>\n",
       "    </tr>\n",
       "  </tbody>\n",
       "</table>\n",
       "</div>"
      ],
      "text/plain": [
       "   wikipedia_movie_ID freebase_movie_ID  \\\n",
       "0              975900         /m/03vyhn   \n",
       "1             3196793         /m/08yl5d   \n",
       "2            13696889        /m/03cfc81   \n",
       "3            10408933        /m/02qc0j7   \n",
       "4             6631279         /m/0gffwj   \n",
       "\n",
       "                                          movie_name movie_release_date  \\\n",
       "0                                     Ghosts of Mars         2001-08-24   \n",
       "1  Getting Away with Murder: The JonBenét Ramsey ...         2000-02-16   \n",
       "2                                      The Gangsters         1913-05-29   \n",
       "3                           Alexander's Ragtime Band         1938-08-16   \n",
       "4                                        Little city         1997-04-04   \n",
       "\n",
       "   movie_box_office_revenue  movie_runtime  \\\n",
       "0                14010832.0           98.0   \n",
       "1                       NaN           95.0   \n",
       "2                       NaN           35.0   \n",
       "3                 3600000.0          106.0   \n",
       "4                       NaN           93.0   \n",
       "\n",
       "                                     movie_languages  \\\n",
       "0                 {\"/m/02h40lc\": \"English Language\"}   \n",
       "1                 {\"/m/02h40lc\": \"English Language\"}   \n",
       "2  {\"/m/06ppq\": \"Silent film\", \"/m/02h40lc\": \"Eng...   \n",
       "3                 {\"/m/02h40lc\": \"English Language\"}   \n",
       "4                 {\"/m/02h40lc\": \"English Language\"}   \n",
       "\n",
       "                             movie_countries  \\\n",
       "0  {\"/m/09c7w0\": \"United States of America\"}   \n",
       "1  {\"/m/09c7w0\": \"United States of America\"}   \n",
       "2  {\"/m/09c7w0\": \"United States of America\"}   \n",
       "3  {\"/m/09c7w0\": \"United States of America\"}   \n",
       "4  {\"/m/09c7w0\": \"United States of America\"}   \n",
       "\n",
       "                                        movie_genres  year_released  \\\n",
       "0  {\"/m/01jfsb\": \"Thriller\", \"/m/06n90\": \"Science...           2001   \n",
       "1  {\"/m/02n4kr\": \"Mystery\", \"/m/03bxz7\": \"Biograp...           2000   \n",
       "2  {\"/m/02hmvc\": \"Short Film\", \"/m/06ppq\": \"Silen...           1913   \n",
       "3  {\"/m/04t36\": \"Musical\", \"/m/01z4y\": \"Comedy\", ...           1938   \n",
       "4  {\"/m/06cvj\": \"Romantic comedy\", \"/m/0hj3n0w\": ...           1997   \n",
       "\n",
       "      tconst  averageRating  numVotes  \\\n",
       "0  tt0228333            4.9   56928.0   \n",
       "1        NaN            NaN       NaN   \n",
       "2  tt0002894            6.8      17.0   \n",
       "3  tt0029852            6.8    2268.0   \n",
       "4        NaN            NaN       NaN   \n",
       "\n",
       "                                               genre  \n",
       "0  [Thriller, Science Fiction, Horror, Adventure,...  \n",
       "1   [Mystery, Biographical film, Drama, Crime Drama]  \n",
       "2  [Short Film, Silent film, Indie, Black-and-whi...  \n",
       "3                 [Musical, Comedy, Black-and-white]  \n",
       "4  [Romantic comedy, Ensemble Film, Comedy-drama,...  "
      ]
     },
     "execution_count": 301,
     "metadata": {},
     "output_type": "execute_result"
    }
   ],
   "source": [
    "#filter the movies that have the genres in genre_main, not necessarily the first genre\n",
    "movies_main = movies[movies['genre'].apply(lambda x: any(item for item in x if item in genre_main.index))].copy()\n",
    "print(movies_main.shape)\n",
    "movies_main.head()\n"
   ]
  },
  {
   "cell_type": "code",
   "execution_count": 302,
   "metadata": {},
   "outputs": [
    {
     "name": "stdout",
     "output_type": "stream",
     "text": [
      "(10,)\n",
      "Index(['Drama', 'Comedy', 'Romance Film', 'Black-and-white', 'Thriller',\n",
      "       'Action', 'Short Film', 'Indie', 'Crime Fiction', 'Silent film'],\n",
      "      dtype='object', name='genre')\n"
     ]
    },
    {
     "data": {
      "image/png": "[encoded data removed]",
      "text/plain": [
       "<Figure size 800x400 with 1 Axes>"
      ]
     },
     "metadata": {},
     "output_type": "display_data"
    }
   ],
   "source": [
    "#filter the movies with rating higher than 7 from the movies_main dataset\n",
    "movies_main_filtered= movies_main[movies_main['averageRating']>=7].copy()\n",
    "#for each genre in genre_main, find the number of movies in movies_main_filter that have the genre\n",
    "#and plot the number of movies for each genre\n",
    "genre_main_filtered = movies_main_filtered['genre'].explode().value_counts()[genre_main.index]\n",
    "print(genre_main_filtered.shape)\n",
    "print(genre_main_filtered.index)\n",
    "plt.figure(figsize=(8, 4))\n",
    "plt.bar(genre_main_filtered.index, genre_main_filtered.values)\n",
    "plt.xticks(rotation=90)\n",
    "plt.title(\"Genres\")\n",
    "plt.xlabel(\"Genre\")\n",
    "plt.ylabel(\"Number of movies\")\n",
    "plt.show()"
   ]
  },
  {
   "cell_type": "markdown",
   "metadata": {},
   "source": [
    "From the graph we could see that Drama has more high rating movies, but this is mostly due to the large base number of genre movies.\n",
    "Therefore we will further consider the ratio between the number of high rating movies and the number of total movies with the same genre, which we define as success_rate."
   ]
  },
  {
   "cell_type": "code",
   "execution_count": 303,
   "metadata": {},
   "outputs": [
    {
     "name": "stdout",
     "output_type": "stream",
     "text": [
      "(10, 2)\n"
     ]
    },
    {
     "data": {
      "image/png": "[encoded data removed]",
      "text/plain": [
       "<Figure size 800x400 with 1 Axes>"
      ]
     },
     "metadata": {},
     "output_type": "display_data"
    }
   ],
   "source": [
    "#for each genre, calculate the ratio of movies with rating higher than 7 / total number of movies in that genre\n",
    "genre_ratio = pd.DataFrame(columns=['genre', 'ratio'])\n",
    "for g in genre_main.index:\n",
    "    ratio = len(movies_main_filtered[movies_main_filtered['genre'].apply(lambda x: g in x)]) / len(movies_main[movies_main['genre'].apply(lambda x: g in x)])\n",
    "    #add the genre and ratio to the dataframe\n",
    "    genre_ratio = pd.concat([genre_ratio, pd.DataFrame({'genre': [g], 'ratio': [ratio]})], ignore_index=True)#sort the dataframe by ratio\n",
    "genre_ratio = genre_ratio.sort_values(by='ratio', ascending=False)\n",
    "print(genre_ratio.shape)\n",
    "#plot the ratio\n",
    "plt.figure(figsize=(8, 4))\n",
    "plt.bar(genre_ratio['genre'], genre_ratio['ratio'])\n",
    "plt.xticks(rotation=90)\n",
    "plt.title(\"Ratio of movies with rating higher than 7\")\n",
    "plt.xlabel(\"Genre\")\n",
    "plt.ylabel(\"Ratio\")\n",
    "plt.show()\n"
   ]
  },
  {
   "cell_type": "code",
   "execution_count": 304,
   "metadata": {},
   "outputs": [],
   "source": [
    "# # plot the number of movies for Drama genre for each decade\n",
    "# # extract the decade from the year_released\n",
    "# movies_main_filtered['decade'] = movies_main_filtered['year_released'].apply(lambda x: int(x/10)*10)\n",
    "# #convert the entries of movies_main_filtered['decade'] to int\n",
    "# movies_main_filtered['decade'] = movies_main_filtered['decade'].astype(int)\n",
    "# #convert the entries of movies_main_filtered['genre'] to string\n",
    "# movies_main_filtered['genre'] = movies_main_filtered['genre'].astype(str)\n",
    "# #group by decade and genre\n",
    "# movies_main_filtered_decade = movies_main_filtered.groupby(['decade']).reset_index(name='decade')\n",
    "# print(movies_main_filtered_decade)\n",
    "# #filter the movies with Drama genre\n",
    "# movies_main_filtered_decade_drama = movies_main_filtered_decade[movies_main_filtered_decade['genre']=='Drama'].copy()\n",
    "# #convert the entries of movies_main_filtered_decade_drama['genre'] to string\n",
    "# movies_main_filtered_decade_drama['genre'] = movies_main_filtered_decade_drama['genre'].astype(str)\n",
    "# #convert the entries of movies_main_filtered_decade_drama['decade'] to int\n",
    "# movies_main_filtered_decade_drama['decade'] = movies_main_filtered_decade_drama['decade'].astype(int)\n",
    "# print(movies_main_filtered_decade_drama)\n",
    "# #plot the number of movies for Drama genre for each decade\n",
    "# plt.figure(figsize=(8, 4))\n",
    "# plt.bar(movies_main_filtered_decade_drama['decade'], movies_main_filtered_decade_drama['count'])\n",
    "# plt.xticks(rotation=90)\n",
    "# plt.title(\"Number of movies with Drama genre for each decade\")\n",
    "# plt.xlabel(\"Decade\")\n",
    "# plt.ylabel(\"Number of movies\")\n",
    "# plt.show()\n"
   ]
  },
  {
   "cell_type": "code",
   "execution_count": 305,
   "metadata": {},
   "outputs": [
    {
     "name": "stdout",
     "output_type": "stream",
     "text": [
      "(3247, 12)\n"
     ]
    },
    {
     "data": {
      "text/html": [
       "<div>\n",
       "<style scoped>\n",
       "    .dataframe tbody tr th:only-of-type {\n",
       "        vertical-align: middle;\n",
       "    }\n",
       "\n",
       "    .dataframe tbody tr th {\n",
       "        vertical-align: top;\n",
       "    }\n",
       "\n",
       "    .dataframe thead th {\n",
       "        text-align: right;\n",
       "    }\n",
       "</style>\n",
       "<table border=\"1\" class=\"dataframe\">\n",
       "  <thead>\n",
       "    <tr style=\"text-align: right;\">\n",
       "      <th></th>\n",
       "      <th>wikipedia_movie_ID</th>\n",
       "      <th>freebase_movie_ID</th>\n",
       "      <th>movie_name</th>\n",
       "      <th>movie_release_date</th>\n",
       "      <th>movie_box_office_revenue</th>\n",
       "      <th>movie_runtime</th>\n",
       "      <th>movie_languages</th>\n",
       "      <th>movie_countries</th>\n",
       "      <th>year_released</th>\n",
       "      <th>tconst</th>\n",
       "      <th>averageRating</th>\n",
       "      <th>numVotes</th>\n",
       "    </tr>\n",
       "  </thead>\n",
       "  <tbody>\n",
       "    <tr>\n",
       "      <th>0</th>\n",
       "      <td>171005</td>\n",
       "      <td>/m/016ywb</td>\n",
       "      <td>Henry V</td>\n",
       "      <td>1989-11-08</td>\n",
       "      <td>10161099.0</td>\n",
       "      <td>137.0</td>\n",
       "      <td>{\"/m/02h40lc\": \"English Language\"}</td>\n",
       "      <td>{\"/m/07ssc\": \"United Kingdom\"}</td>\n",
       "      <td>1989</td>\n",
       "      <td>tt0097499</td>\n",
       "      <td>7.5</td>\n",
       "      <td>31208.0</td>\n",
       "    </tr>\n",
       "    <tr>\n",
       "      <th>1</th>\n",
       "      <td>77856</td>\n",
       "      <td>/m/0kcn7</td>\n",
       "      <td>Mary Poppins</td>\n",
       "      <td>1964-08-27</td>\n",
       "      <td>102272727.0</td>\n",
       "      <td>139.0</td>\n",
       "      <td>{\"/m/02h40lc\": \"English Language\"}</td>\n",
       "      <td>{\"/m/09c7w0\": \"United States of America\"}</td>\n",
       "      <td>1964</td>\n",
       "      <td>tt0058331</td>\n",
       "      <td>7.8</td>\n",
       "      <td>181829.0</td>\n",
       "    </tr>\n",
       "    <tr>\n",
       "      <th>2</th>\n",
       "      <td>24399617</td>\n",
       "      <td>/m/07s63_7</td>\n",
       "      <td>Bruce Lee: The Lost Interview</td>\n",
       "      <td>1994-11-02</td>\n",
       "      <td>NaN</td>\n",
       "      <td>30.0</td>\n",
       "      <td>{\"/m/02h40lc\": \"English Language\"}</td>\n",
       "      <td>{\"/m/0d060g\": \"Canada\"}</td>\n",
       "      <td>1994</td>\n",
       "      <td>tt0432762</td>\n",
       "      <td>8.6</td>\n",
       "      <td>123.0</td>\n",
       "    </tr>\n",
       "    <tr>\n",
       "      <th>3</th>\n",
       "      <td>8669450</td>\n",
       "      <td>/m/027d9tv</td>\n",
       "      <td>One Six Right</td>\n",
       "      <td>2005-11-25</td>\n",
       "      <td>NaN</td>\n",
       "      <td>73.0</td>\n",
       "      <td>{\"/m/02h40lc\": \"English Language\"}</td>\n",
       "      <td>{\"/m/09c7w0\": \"United States of America\"}</td>\n",
       "      <td>2005</td>\n",
       "      <td>tt0475994</td>\n",
       "      <td>7.9</td>\n",
       "      <td>457.0</td>\n",
       "    </tr>\n",
       "    <tr>\n",
       "      <th>4</th>\n",
       "      <td>164388</td>\n",
       "      <td>/m/015wmt</td>\n",
       "      <td>The Great Santini</td>\n",
       "      <td>1979-10-26</td>\n",
       "      <td>4702575.0</td>\n",
       "      <td>115.0</td>\n",
       "      <td>{\"/m/02h40lc\": \"English Language\"}</td>\n",
       "      <td>{\"/m/09c7w0\": \"United States of America\"}</td>\n",
       "      <td>1979</td>\n",
       "      <td>tt0079239</td>\n",
       "      <td>7.2</td>\n",
       "      <td>6812.0</td>\n",
       "    </tr>\n",
       "  </tbody>\n",
       "</table>\n",
       "</div>"
      ],
      "text/plain": [
       "   wikipedia_movie_ID freebase_movie_ID                     movie_name  \\\n",
       "0              171005         /m/016ywb                        Henry V   \n",
       "1               77856          /m/0kcn7                   Mary Poppins   \n",
       "2            24399617        /m/07s63_7  Bruce Lee: The Lost Interview   \n",
       "3             8669450        /m/027d9tv                  One Six Right   \n",
       "4              164388         /m/015wmt              The Great Santini   \n",
       "\n",
       "  movie_release_date  movie_box_office_revenue  movie_runtime  \\\n",
       "0         1989-11-08                10161099.0          137.0   \n",
       "1         1964-08-27               102272727.0          139.0   \n",
       "2         1994-11-02                       NaN           30.0   \n",
       "3         2005-11-25                       NaN           73.0   \n",
       "4         1979-10-26                 4702575.0          115.0   \n",
       "\n",
       "                      movie_languages  \\\n",
       "0  {\"/m/02h40lc\": \"English Language\"}   \n",
       "1  {\"/m/02h40lc\": \"English Language\"}   \n",
       "2  {\"/m/02h40lc\": \"English Language\"}   \n",
       "3  {\"/m/02h40lc\": \"English Language\"}   \n",
       "4  {\"/m/02h40lc\": \"English Language\"}   \n",
       "\n",
       "                             movie_countries  year_released     tconst  \\\n",
       "0             {\"/m/07ssc\": \"United Kingdom\"}           1989  tt0097499   \n",
       "1  {\"/m/09c7w0\": \"United States of America\"}           1964  tt0058331   \n",
       "2                    {\"/m/0d060g\": \"Canada\"}           1994  tt0432762   \n",
       "3  {\"/m/09c7w0\": \"United States of America\"}           2005  tt0475994   \n",
       "4  {\"/m/09c7w0\": \"United States of America\"}           1979  tt0079239   \n",
       "\n",
       "   averageRating  numVotes  \n",
       "0            7.5   31208.0  \n",
       "1            7.8  181829.0  \n",
       "2            8.6     123.0  \n",
       "3            7.9     457.0  \n",
       "4            7.2    6812.0  "
      ]
     },
     "execution_count": 305,
     "metadata": {},
     "output_type": "execute_result"
    }
   ],
   "source": [
    "#create a new dataframe with only the top 10 genres and has a rating larger than 7\n",
    "movies_main = movies[movies[\"averageRating\"] >= 7].copy()\n",
    "movies_main = movies_main.drop(columns=[\"movie_genres\", \"genre\"])\n",
    "movies_main = movies_main.reset_index(drop=True)\n",
    "print(movies_main.shape)\n",
    "movies_main.head()\n"
   ]
  },
  {
   "cell_type": "code",
   "execution_count": 306,
   "metadata": {},
   "outputs": [
    {
     "name": "stdout",
     "output_type": "stream",
     "text": [
      "movie_runtime    32661\n",
      "averageRating    14369\n",
      "dtype: int64\n"
     ]
    },
    {
     "data": {
      "text/plain": [
       "movie_runtime    13609\n",
       "averageRating    13609\n",
       "dtype: int64"
      ]
     },
     "execution_count": 306,
     "metadata": {},
     "output_type": "execute_result"
    }
   ],
   "source": [
    "#duration\n",
    "#the distribution of runtime and its correlation with rating\n",
    "print(movies[[\"movie_runtime\", \"averageRating\"]].count())\n",
    "duration = movies[[\"movie_runtime\", \"averageRating\"]].dropna()\n",
    "duration.count()"
   ]
  },
  {
   "cell_type": "code",
   "execution_count": 307,
   "metadata": {},
   "outputs": [
    {
     "data": {
      "image/png": "[encoded data removed]",
      "text/plain": [
       "<Figure size 640x480 with 1 Axes>"
      ]
     },
     "metadata": {},
     "output_type": "display_data"
    }
   ],
   "source": [
    "# histogram plot without removing outliers\n",
    "plt.hist(duration[\"movie_runtime\"], histtype=\"step\", log=True, bins=20)\n",
    "plt.title(\"Distribution of movie runtime\")\n",
    "plt.xlabel(\"Length of movie runtime (minute)\")\n",
    "plt.ylabel(\"Number of movies\")\n",
    "plt.show()\n"
   ]
  },
  {
   "cell_type": "code",
   "execution_count": 308,
   "metadata": {},
   "outputs": [
    {
     "data": {
      "image/png": "[encoded data removed]",
      "text/plain": [
       "<Figure size 640x480 with 1 Axes>"
      ]
     },
     "metadata": {},
     "output_type": "display_data"
    }
   ],
   "source": [
    "# histogram plot with removing outliers using IQR\n",
    "q1 = duration[\"movie_runtime\"].quantile(0.25)\n",
    "q3 = duration[\"movie_runtime\"].quantile(0.75)\n",
    "iqr = q3 - q1\n",
    "duration = duration[duration[\"movie_runtime\"] < q3 + 1.5 * iqr]\n",
    "duration = duration[duration[\"movie_runtime\"] > q1 - 1.5 * iqr]\n",
    "\n",
    "plt.hist(duration[\"movie_runtime\"], histtype=\"step\", log=True, bins=20)\n",
    "plt.title(\"Distribution of movie runtime\")\n",
    "plt.xlabel(\"Length of movie runtime (minute)\")\n",
    "plt.ylabel(\"Number of movies\")\n",
    "plt.show()\n"
   ]
  }
 ],
 "metadata": {
  "kernelspec": {
   "display_name": "ada",
   "language": "python",
   "name": "python3"
  },
  "language_info": {
   "codemirror_mode": {
    "name": "ipython",
    "version": 3
   },
   "file_extension": ".py",
   "mimetype": "text/x-python",
   "name": "python",
   "nbconvert_exporter": "python",
   "pygments_lexer": "ipython3",
   "version": "3.9.18"
  }
 },
 "nbformat": 4,
 "nbformat_minor": 2
}
