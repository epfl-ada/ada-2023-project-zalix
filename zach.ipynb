{
 "cells": [
  {
   "cell_type": "code",
   "execution_count": 1,
   "metadata": {
    "ExecuteTime": {
     "end_time": "2023-11-16T17:37:39.953189Z",
     "start_time": "2023-11-16T17:37:39.938189Z"
    }
   },
   "outputs": [],
   "source": [
    "%reload_ext autoreload\n",
    "%autoreload 2"
   ]
  },
  {
   "cell_type": "code",
   "execution_count": 2,
   "metadata": {
    "ExecuteTime": {
     "end_time": "2023-11-16T17:37:40.361749Z",
     "start_time": "2023-11-16T17:37:39.950932Z"
    }
   },
   "outputs": [],
   "source": [
    "# imports\n",
    "import os\n",
    "import ast\n",
    "import math\n",
    "import json\n",
    "import requests\n",
    "import numpy as np\n",
    "import pandas as pd\n",
    "import networkx as nx\n",
    "import seaborn as sns\n",
    "import ipywidgets as widgets\n",
    "\n",
    "import statsmodels.api as sm\n",
    "import matplotlib.pyplot as plt\n",
    "import statsmodels.formula.api as smf\n",
    "\n",
    "\n",
    "from scipy import stats\n",
    "from datetime import datetime as dt\n",
    "from ipywidgets import interact, interactive, fixed, interact_manual\n",
    "\n",
    "from IPython.display import HTML\n",
    "from statsmodels.stats.multicomp import pairwise_tukeyhsd"
   ]
  },
  {
   "cell_type": "code",
   "execution_count": 3,
   "metadata": {
    "ExecuteTime": {
     "end_time": "2023-11-16T17:38:02.691535Z",
     "start_time": "2023-11-16T17:37:40.363126Z"
    }
   },
   "outputs": [
    {
     "name": "stderr",
     "output_type": "stream",
     "text": [
      "/Users/chuck/IdeaProjects/ada-2023-project-zalix/helpers.py:73: UserWarning: The argument 'infer_datetime_format' is deprecated and will be removed in a future version. A strict version of it is now the default, see https://pandas.pydata.org/pdeps/0004-consistent-to-datetime-parsing.html. You can safely remove this argument.\n",
      "  movies[\"year_released\"] = pd.to_datetime(\n"
     ]
    }
   ],
   "source": [
    "import helpers\n",
    "\n",
    "\n",
    "movies, characters = helpers.import_movies_data(\"./data/\")\n"
   ]
  },
  {
   "cell_type": "code",
   "execution_count": 4,
   "metadata": {
    "ExecuteTime": {
     "end_time": "2023-11-16T17:38:02.731241Z",
     "start_time": "2023-11-16T17:38:02.691316Z"
    }
   },
   "outputs": [
    {
     "data": {
      "text/html": [
       "<div>\n",
       "<style scoped>\n",
       "    .dataframe tbody tr th:only-of-type {\n",
       "        vertical-align: middle;\n",
       "    }\n",
       "\n",
       "    .dataframe tbody tr th {\n",
       "        vertical-align: top;\n",
       "    }\n",
       "\n",
       "    .dataframe thead th {\n",
       "        text-align: right;\n",
       "    }\n",
       "</style>\n",
       "<table border=\"1\" class=\"dataframe\">\n",
       "  <thead>\n",
       "    <tr style=\"text-align: right;\">\n",
       "      <th></th>\n",
       "      <th>wikipedia_movie_ID</th>\n",
       "      <th>freebase_movie_ID</th>\n",
       "      <th>movie_name</th>\n",
       "      <th>movie_release_date</th>\n",
       "      <th>movie_box_office_revenue</th>\n",
       "      <th>movie_runtime</th>\n",
       "      <th>movie_languages</th>\n",
       "      <th>movie_countries</th>\n",
       "      <th>movie_genres</th>\n",
       "      <th>year_released</th>\n",
       "      <th>tconst</th>\n",
       "      <th>averageRating</th>\n",
       "      <th>numVotes</th>\n",
       "    </tr>\n",
       "  </thead>\n",
       "  <tbody>\n",
       "    <tr>\n",
       "      <th>0</th>\n",
       "      <td>975900</td>\n",
       "      <td>/m/03vyhn</td>\n",
       "      <td>Ghosts of Mars</td>\n",
       "      <td>2001-08-24</td>\n",
       "      <td>14010832.0</td>\n",
       "      <td>98.0</td>\n",
       "      <td>{\"/m/02h40lc\": \"English Language\"}</td>\n",
       "      <td>{\"/m/09c7w0\": \"United States of America\"}</td>\n",
       "      <td>{\"/m/01jfsb\": \"Thriller\", \"/m/06n90\": \"Science...</td>\n",
       "      <td>2001</td>\n",
       "      <td>tt0228333</td>\n",
       "      <td>4.9</td>\n",
       "      <td>56928.0</td>\n",
       "    </tr>\n",
       "    <tr>\n",
       "      <th>2</th>\n",
       "      <td>13696889</td>\n",
       "      <td>/m/03cfc81</td>\n",
       "      <td>The Gangsters</td>\n",
       "      <td>1913-05-29</td>\n",
       "      <td>NaN</td>\n",
       "      <td>35.0</td>\n",
       "      <td>{\"/m/06ppq\": \"Silent film\", \"/m/02h40lc\": \"Eng...</td>\n",
       "      <td>{\"/m/09c7w0\": \"United States of America\"}</td>\n",
       "      <td>{\"/m/02hmvc\": \"Short Film\", \"/m/06ppq\": \"Silen...</td>\n",
       "      <td>1913</td>\n",
       "      <td>tt0002894</td>\n",
       "      <td>6.8</td>\n",
       "      <td>17.0</td>\n",
       "    </tr>\n",
       "    <tr>\n",
       "      <th>3</th>\n",
       "      <td>10408933</td>\n",
       "      <td>/m/02qc0j7</td>\n",
       "      <td>Alexander's Ragtime Band</td>\n",
       "      <td>1938-08-16</td>\n",
       "      <td>3600000.0</td>\n",
       "      <td>106.0</td>\n",
       "      <td>{\"/m/02h40lc\": \"English Language\"}</td>\n",
       "      <td>{\"/m/09c7w0\": \"United States of America\"}</td>\n",
       "      <td>{\"/m/04t36\": \"Musical\", \"/m/01z4y\": \"Comedy\", ...</td>\n",
       "      <td>1938</td>\n",
       "      <td>tt0029852</td>\n",
       "      <td>6.8</td>\n",
       "      <td>2268.0</td>\n",
       "    </tr>\n",
       "  </tbody>\n",
       "</table>\n",
       "</div>"
      ],
      "text/plain": [
       "   wikipedia_movie_ID freebase_movie_ID                movie_name  \\\n",
       "0              975900         /m/03vyhn            Ghosts of Mars   \n",
       "2            13696889        /m/03cfc81             The Gangsters   \n",
       "3            10408933        /m/02qc0j7  Alexander's Ragtime Band   \n",
       "\n",
       "  movie_release_date  movie_box_office_revenue  movie_runtime  \\\n",
       "0         2001-08-24                14010832.0           98.0   \n",
       "2         1913-05-29                       NaN           35.0   \n",
       "3         1938-08-16                 3600000.0          106.0   \n",
       "\n",
       "                                     movie_languages  \\\n",
       "0                 {\"/m/02h40lc\": \"English Language\"}   \n",
       "2  {\"/m/06ppq\": \"Silent film\", \"/m/02h40lc\": \"Eng...   \n",
       "3                 {\"/m/02h40lc\": \"English Language\"}   \n",
       "\n",
       "                             movie_countries  \\\n",
       "0  {\"/m/09c7w0\": \"United States of America\"}   \n",
       "2  {\"/m/09c7w0\": \"United States of America\"}   \n",
       "3  {\"/m/09c7w0\": \"United States of America\"}   \n",
       "\n",
       "                                        movie_genres  year_released  \\\n",
       "0  {\"/m/01jfsb\": \"Thriller\", \"/m/06n90\": \"Science...           2001   \n",
       "2  {\"/m/02hmvc\": \"Short Film\", \"/m/06ppq\": \"Silen...           1913   \n",
       "3  {\"/m/04t36\": \"Musical\", \"/m/01z4y\": \"Comedy\", ...           1938   \n",
       "\n",
       "      tconst  averageRating  numVotes  \n",
       "0  tt0228333            4.9   56928.0  \n",
       "2  tt0002894            6.8      17.0  \n",
       "3  tt0029852            6.8    2268.0  "
      ]
     },
     "execution_count": 4,
     "metadata": {},
     "output_type": "execute_result"
    }
   ],
   "source": [
    "movies.head(3)"
   ]
  },
  {
   "cell_type": "code",
   "execution_count": 5,
   "metadata": {
    "collapsed": false
   },
   "outputs": [],
   "source": [
    "#### this section explores the relationship between the ethnic make-up of a movie's cast and its ratings "
   ]
  },
  {
   "cell_type": "code",
   "execution_count": 6,
   "metadata": {
    "collapsed": false
   },
   "outputs": [],
   "source": [
    "### research question 1: how has actors' ethnic demographics changed over the years in the global movies industry? "
   ]
  },
  {
   "cell_type": "code",
   "execution_count": 7,
   "metadata": {},
   "outputs": [
    {
     "name": "stdout",
     "output_type": "stream",
     "text": [
      "(375,)\n"
     ]
    },
    {
     "data": {
      "text/plain": [
       "<Axes: >"
      ]
     },
     "execution_count": 7,
     "metadata": {},
     "output_type": "execute_result"
    },
    {
     "data": {
      "image/png": "[encoded data removed]",
      "text/plain": [
       "<Figure size 640x480 with 1 Axes>"
      ]
     },
     "metadata": {},
     "output_type": "display_data"
    }
   ],
   "source": [
    "## data preprocessing\n",
    "# NOTE: INNER join movies with characters (ignore if either side's info is missing)\n",
    "movies_ratings_characters = pd.merge(movies, characters, how='inner', on=['wikipedia_movie_ID'])\n",
    "movies_ratings_characters.head(3)\n",
    "\n",
    "## exploratory data analysis\n",
    "# show distribution of ethnicities\n",
    "ethnicity_count = movies_ratings_characters['actor_ethnicity'].value_counts()\n",
    "print(ethnicity_count.shape)\n",
    "# half ethnicities have frequency < 10\n",
    "# print(ethnicity_count.values)\n",
    "\n",
    "movies_ratings_characters['actor_ethnicity'].hist()"
   ]
  },
  {
   "cell_type": "code",
   "execution_count": 8,
   "metadata": {},
   "outputs": [
    {
     "data": {
      "text/plain": [
       "decade\n",
       "1900      1\n",
       "1910     12\n",
       "1920     27\n",
       "1930     39\n",
       "1940     55\n",
       "1950     72\n",
       "1960     80\n",
       "1970    126\n",
       "1980    174\n",
       "1990    239\n",
       "2000    312\n",
       "2010    227\n",
       "dtype: int64"
      ]
     },
     "metadata": {},
     "output_type": "display_data"
    }
   ],
   "source": [
    "## compute the number of actor ethnicities in each decade\n",
    "# add decade column\n",
    "movies_ratings_characters['decade'] = movies_ratings_characters['year_released'].apply(lambda x: int(x/10)*10)\n",
    "# compute the number of ethnicities for each decade based on actors who have at least one film released in that decade\n",
    "# NOTE: missing values in ethnicity column are ignored\n",
    "decade_ethnicity = pd.crosstab(movies_ratings_characters['decade'], movies_ratings_characters['actor_ethnicity'])\n",
    "decade_num_ethnicities = decade_ethnicity.apply(lambda x: (x != 0).sum(), axis=1)\n",
    "\n",
    "# NOTE: last decade's drop expla\n",
    "# ined by data collected till 2013 \n",
    "display(decade_num_ethnicities)"
   ]
  },
  {
   "cell_type": "code",
   "execution_count": 9,
   "metadata": {},
   "outputs": [
    {
     "data": {
      "text/plain": [
       "<Axes: xlabel='decade'>"
      ]
     },
     "execution_count": 9,
     "metadata": {},
     "output_type": "execute_result"
    },
    {
     "data": {
      "image/png": "[encoded data removed]",
      "text/plain": [
       "<Figure size 1000x600 with 1 Axes>"
      ]
     },
     "metadata": {},
     "output_type": "display_data"
    }
   ],
   "source": [
    "# plot the number of actor ethnicities in each decade\n",
    "decade_num_ethnicities.plot.bar(stacked=True, figsize=(10, 6))\n",
    "# answers research question 1: in the global movie industry, actors are coming from increasingly more diverse ethnic backgrounds over the years"
   ]
  },
  {
   "cell_type": "code",
   "execution_count": 10,
   "metadata": {},
   "outputs": [],
   "source": [
    "### research question 2: is the global film industry producing more ethnically diverse good films over the years?"
   ]
  },
  {
   "cell_type": "code",
   "execution_count": 14,
   "metadata": {},
   "outputs": [
    {
     "name": "stdout",
     "output_type": "stream",
     "text": [
      "(12574, 26)\n",
      "count    12574.000000\n",
      "mean         6.152505\n",
      "std          1.032984\n",
      "min          1.300000\n",
      "25%          5.600000\n",
      "50%          6.300000\n",
      "75%          6.800000\n",
      "max          9.900000\n",
      "Name: averageRating, dtype: float64\n",
      "(2644, 26) 0.2102751709877525\n"
     ]
    },
    {
     "data": {
      "image/png": "[encoded data removed]",
      "text/plain": [
       "<Figure size 640x480 with 1 Axes>"
      ]
     },
     "metadata": {},
     "output_type": "display_data"
    }
   ],
   "source": [
    "## exploratory data analysis \n",
    "# filter dataset to unique movies\n",
    "# NOTE: number of movies (with ratings) shrank from 14369 to 12574 after joining with characters\n",
    "df_unique_movies = movies_ratings_characters.drop_duplicates(subset=['wikipedia_movie_ID'])\n",
    "print(df_unique_movies.shape)\n",
    "\n",
    "# show distribution of movie ratings\n",
    "print(df_unique_movies['averageRating'].describe())\n",
    "# roughly normally distributed\n",
    "df_unique_movies['averageRating'].hist(bins=100)\n",
    "\n",
    "high_ratings_movies = df_unique_movies[df_unique_movies['averageRating'] >= 7.0]\n",
    "# 21.03% are high-rating films\n",
    "print(high_ratings_movies.shape, high_ratings_movies.shape[0]/df_unique_movies.shape[0])\n",
    "\n",
    "# NOTE: hereafter define good films as films with IMDB rating >= 7.0"
   ]
  },
  {
   "cell_type": "code",
   "execution_count": null,
   "metadata": {},
   "outputs": [],
   "source": [
    "# calculate number of ethnicities per film\n",
    "movie_num_ethnicities = movies_ratings_characters.groupby('wikipedia_movie_ID')['actor_ethnicity'].nunique()\n",
    "\n",
    "# show distribution of number of ethnicities per film\n",
    "\n",
    "\n",
    "# NOTE: ethnically diverse films = number of different ethnicities in cast member >= 3"
   ]
  },
  {
   "cell_type": "code",
   "execution_count": null,
   "metadata": {},
   "outputs": [],
   "source": []
  },
  {
   "cell_type": "code",
   "execution_count": null,
   "metadata": {},
   "outputs": [],
   "source": []
  }
 ],
 "metadata": {
  "kernelspec": {
   "display_name": "Python 3",
   "language": "python",
   "name": "python3"
  },
  "language_info": {
   "codemirror_mode": {
    "name": "ipython",
    "version": 3
   },
   "file_extension": ".py",
   "mimetype": "text/x-python",
   "name": "python",
   "nbconvert_exporter": "python",
   "pygments_lexer": "ipython3",
   "version": "3.9.18"
  }
 },
 "nbformat": 4,
 "nbformat_minor": 2
}
